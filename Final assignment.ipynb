{
 "cells": [
  {
   "cell_type": "code",
   "execution_count": null,
   "id": "ad893f06-654d-412b-8df5-9ce3e4059c6f",
   "metadata": {
    "scrolled": true
   },
   "outputs": [],
   "source": [
    "score= int(input(\"Enter your score:\"))\n",
    "if score >=70:\n",
    "    print(\"your grade is A\")\n",
    "elif score < 70 and score >=60:\n",
    "    print(\"your grade is B\")\n",
    "elif score < 60 and score >=50:\n",
    "    print(\" your grade is C\")\n",
    "elif score < 50 and score >=45:\n",
    "    print(\"your grade is D\")\n",
    "else:\n",
    "    print(\"your grade is F\")\n"
   ]
  },
  {
   "cell_type": "code",
   "execution_count": null,
   "id": "629d5658-934f-4f5a-824d-516fc418e1b2",
   "metadata": {},
   "outputs": [],
   "source": []
  },
  {
   "cell_type": "code",
   "execution_count": null,
   "id": "d3b52095-d8af-4a34-bee7-33079bdec7ae",
   "metadata": {},
   "outputs": [],
   "source": []
  }
 ],
 "metadata": {
  "kernelspec": {
   "display_name": "Python [conda env:base] *",
   "language": "python",
   "name": "conda-base-py"
  },
  "language_info": {
   "codemirror_mode": {
    "name": "ipython",
    "version": 3
   },
   "file_extension": ".py",
   "mimetype": "text/x-python",
   "name": "python",
   "nbconvert_exporter": "python",
   "pygments_lexer": "ipython3",
   "version": "3.13.5"
  }
 },
 "nbformat": 4,
 "nbformat_minor": 5
}
